{
 "cells": [
  {
   "cell_type": "code",
   "execution_count": 2,
   "metadata": {},
   "outputs": [],
   "source": [
    "from polygon import RESTClient\n",
    "from typing import cast\n",
    "from urllib3 import HTTPResponse\n",
    "import json\n",
    "import pandas as pd\n",
    "import datetime\n",
    "import pytz\n",
    "import talib\n",
    "import ast\n",
    "import uuid\n",
    "import re\n",
    "import os\n",
    "import sys\n",
    "from pathlib import Path\n",
    "notebook_dir = Path().resolve()\n",
    "project_root = notebook_dir.parents[0]\n",
    "sys.path.insert(0, str(project_root))\n",
    "\n",
    "\n",
    "API_KEY = \"I0D0ldkssJgACZm3fcs9DlZAX5osmgZp\"\n",
    "\n",
    "from stockalerter.utils import grab_new_data_polygon\n",
    "from indicators_lib import *\n",
    "from indicators import extract_indicators\n",
    "\n",
    "from utils import ops\n",
    "from utils import supported_indicators\n",
    "from utils import inverse_map\n",
    "from utils import period_and_input"
   ]
  },
  {
   "cell_type": "code",
   "execution_count": 3,
   "metadata": {},
   "outputs": [],
   "source": [
    "# DUMMY CONDITIONS\n",
    "dummy_cond = \"rsi(period=14, input=Close)[-1]>sma(period=50, input=Close)[-1]\"\n",
    "dummy_cond_breakout = \"breakout(sma(period=30, input=Close)[-1] > sma(period = 50, input=Close)[-1])\"\n",
    "\n",
    "# DUMMY INDICATORS\n",
    "dummy_ind_multi_input = \"sma(period=30, input=rsi(period=30, input=Close))[-1]\"\n",
    "dummy_ind_crazy_recursive = \"sma(period=30, input=rsi(period=30, input=sma(period=45, input = slope_sma(period=50, input=Close))))[-1]\"\n",
    "dummy_ind_macd = \"macd(fast_period = 3, slow_period = 4, signal_period = 5, type = line, input = Close)[-1]\"\n",
    "\n",
    "cond_1 = \"hma(period=20, input=Close)[-1] > ema(period=50, input=Close)[-1]\"\n",
    "cond_2 = \"slope_hma(period=14, input=Close)[-1] > 0\"\n",
    "cond_3 = \"roc(period=10, input=Close)[-1] > 5\"\n",
    "cond_4 = \"atr(period=14, input=Close)[-1] > sma(period=14, input=Close)[-1] * 0.02\"\n",
    "cond_5 = \"cci(period=20, input=Close)[-1] < -100\"\n",
    "cond_6 = \"williamsr(period=14, input=Close)[-1] < -80\"\n",
    "cond_7 = \"sar(acceleration=0.02, max_acceleration=0.2, input=Close)[-1] < Close[-1]\"\n",
    "cond_8 = \"bbands(period=20, std_dev=2, type=upper, input=Close)[-1] < Close[-1]\"\n",
    "cond_9 = \"breakout(rsi(period=14, input=hma(period=14, input=Close))[-1] > 70)\"\n",
    "cond_10 = \"macd(fast_period=5, slow_period=10, signal_period=3, type=signal, input=Close)[-1] > macd(fast_period=5, slow_period=10, signal_period=3, type=line, input=Close)[-1]\"\n",
    "cond_11 = \"sma(period=50, input=Close)[-1] >= sma(period=200, input=Close)[-1]\"\n",
    "\n"
   ]
  },
  {
   "cell_type": "code",
   "execution_count": 4,
   "metadata": {},
   "outputs": [],
   "source": [
    "aapl = grab_new_data_polygon(\"AAPL\",\"day\",5)"
   ]
  },
  {
   "cell_type": "code",
   "execution_count": 4,
   "metadata": {},
   "outputs": [],
   "source": [
    "def extract_params(s):\n",
    "    \"\"\"\n",
    "    extract_params(\"period=40,input=Close\") turns into\n",
    "    {'period': '40', 'input': 'Close'}\n",
    "    \"\"\"\n",
    "    depth = 0\n",
    "    parts = []\n",
    "    start = 0\n",
    "    for i,char in enumerate(s):\n",
    "        if char == '(':\n",
    "            depth+=1\n",
    "        elif char == ')':\n",
    "            depth-=1\n",
    "        elif char == ',' and depth == 0:\n",
    "            parts.append(s[start:i])\n",
    "            start = i + 1\n",
    "            \n",
    "    parts.append(s[start:])\n",
    "\n",
    "    return {k:v for k,v in [x.split(\"=\",1) for x in parts]}\n",
    "\n",
    "\n",
    "def is_number(s):\n",
    "    \"\"\"\n",
    "    isnumeric() does not work for decimal or negative values, hence this is used\n",
    "    \"\"\"\n",
    "    try:\n",
    "        float(s)\n",
    "        return True\n",
    "    except ValueError:\n",
    "        return False\n",
    "\n",
    "\n",
    "# This function creates a saveable dict of indicators (nested)\n",
    "# Contains all information to get one number out of it\n",
    "# Debug mode turns on print statements\n",
    "\n",
    "def ind_to_dict(ind, debug_mode = False):\n",
    "    \n",
    "    ind = ind.replace(\" \",\"\")\n",
    "\n",
    "    # CHECKS FOR STANDALONE NUMBERS\n",
    "    if is_number(ind):\n",
    "        ind_dict = {\"isNum\" : True,\n",
    "                    \"number\": int(ind),\n",
    "                    \"operable\" : True,\n",
    "                    \"specifier\" : -1}\n",
    "        return ind_dict\n",
    "    \n",
    "    # CHECKS FOR OHLC\n",
    "    if len(ind.split(\"(\")) == 1:\n",
    "        func = ind.split(\"[\")[0]\n",
    "        specifier = ind.split(\"[\")[1].split(\"]\")[0]\n",
    "        return {'ind':func,\n",
    "                'specifier':specifier,\n",
    "                \"operable\":True}\n",
    "\n",
    "    \n",
    "    func = ind.split(\"(\")[0]\n",
    "\n",
    "    if debug_mode:\n",
    "        print(f\"Working on {func}\")\n",
    "    \n",
    "    params = ind[(ind.find(\"(\") + 1) : ind.rfind(\")\")]\n",
    "    ind_dict =  extract_params(params)\n",
    "    \n",
    "    ind_dict['ind'] = func\n",
    "    ind_dict['operable'] = True\n",
    "\n",
    "    if \"input\" not in ind_dict:\n",
    "        ind_dict[\"input\"] = \"Close\"\n",
    "\n",
    "    if len(ind.split(\"[\")) > 1:\n",
    "        ind_dict['specifier'] = ind.split(\"[\")[1].split(\"]\")[0]\n",
    "    if ind_dict['input'].lower() not in ['open', 'high', 'low', 'close']:\n",
    "        ind_dict['operable'] = False\n",
    "        ind_dict['input'] = ind_to_dict(ind_dict['input'])\n",
    "\n",
    "    return ind_dict"
   ]
  },
  {
   "cell_type": "code",
   "execution_count": 5,
   "metadata": {},
   "outputs": [],
   "source": [
    "def simplify_conditions(cond, breakout_flag = False):\n",
    "    \"\"\"\n",
    "    Trivial Case:\n",
    "    convert rsi(period=14, input=Close)[-1]>sma(period=50, input=Close)[-1] to {cond1, cond2, comparison, breakoutflag=False}\n",
    "\n",
    "    Breakout() Case:\n",
    "    breakout(rsi(period=80, input=Close)[-1]<rsi(period=50, input=Close)[-1]) to {cond1, cond2, comparison, breakoutflag=True}\n",
    "    \"\"\"\n",
    "    cond = cond.replace(\" \", \"\")  # Remove spaces\n",
    "    operators = sorted(list(inverse_map.keys()), key=len, reverse=True)  # Sort by length (longest first)\n",
    "\n",
    "    # If the condition starts with \"breakout\"\n",
    "    if cond[0:8] == \"breakout\":\n",
    "        return simplify_conditions(cond[9:-1], True)\n",
    "\n",
    "    # For multi-character and single-character operators\n",
    "    for operator in operators:\n",
    "        if operator in cond:\n",
    "            # Split the condition by the operator\n",
    "            ind1, ind2 = cond.split(operator, 1)  # Split only once\n",
    "            return {\n",
    "                'ind1': ind_to_dict(ind1),\n",
    "                'ind2': ind_to_dict(ind2),\n",
    "                'comparison': operator,\n",
    "                'breakout_flag': breakout_flag\n",
    "            }\n"
   ]
  },
  {
   "cell_type": "code",
   "execution_count": 12,
   "metadata": {},
   "outputs": [
    {
     "data": {
      "text/plain": [
       "{'ind1': {'period': '50',\n",
       "  'input': 'Close',\n",
       "  'ind': 'sma',\n",
       "  'operable': True,\n",
       "  'specifier': '-1'},\n",
       " 'ind2': {'period': '200',\n",
       "  'input': 'Close',\n",
       "  'ind': 'sma',\n",
       "  'operable': True,\n",
       "  'specifier': '-1'},\n",
       " 'comparison': '>=',\n",
       " 'breakout_flag': False}"
      ]
     },
     "execution_count": 12,
     "metadata": {},
     "output_type": "execute_result"
    }
   ],
   "source": [
    "simplify_conditions(\"sma(period=50, input=Close)[-1] >= sma(period=200, input=Close)[-1]\")"
   ]
  },
  {
   "cell_type": "code",
   "execution_count": 89,
   "metadata": {},
   "outputs": [],
   "source": [
    "def apply_function(df, ind, vals= None, debug_mode = False):\n",
    "    # If it is a flat number, simply return it\n",
    "    if 'isNum' in ind and ind['isNum']:\n",
    "        return ind['number']\n",
    "\n",
    "    func = ind['ind']\n",
    "\n",
    "    if debug_mode:\n",
    "        print(f'At position 1, and func is {func}')\n",
    "\n",
    "    if func in [\"Close\", \"Open\", \"High\", \"Low\"]:\n",
    "        calculated = df[func]\n",
    "    \n",
    "    # INPUT FRIENDLY\n",
    "    elif func in period_and_input:\n",
    "        if vals is None:\n",
    "            calculated = supported_indicators[func](df, int(ind['period']), ind['input'])\n",
    "        else:\n",
    "            calculated = supported_indicators[func](df, int(ind['period']), vals)\n",
    "        \n",
    "    elif func in ['macd','bbands']:\n",
    "        if vals is None:\n",
    "            if func == \"macd\":\n",
    "                calculated = MACD(df,int(ind['fast_period']),int(ind['slow_period']),int(ind['signal_period']), ind['type'], ind['input'])\n",
    "            else:\n",
    "                calculated = BBANDS(df,int(ind['period']),float(ind['std_dev']),ind['type'], ind['input'])\n",
    "        else:\n",
    "            if func == \"macd\":\n",
    "                calculated = MACD(df,int(ind['fast_period']),int(ind['slow_period']),int(ind['signal_period']), ind['type'], vals)\n",
    "            else:\n",
    "                calculated = BBANDS(df,int(ind['period']),float(ind['std_dev']),ind['type'], vals)\n",
    "\n",
    "    # CHECK TO SEE IF INPUT UNFRIENDLY RECIEVED INPUT\n",
    "    elif ind['input'] not in ['Close', 'Open', 'High', 'Low']:\n",
    "        raise ValueError(\"You entered input with a forbidden value\")\n",
    "    \n",
    "    # INPUT UNFRIENDLY\n",
    "    elif func in ['atr', 'cci', 'williamsr']:\n",
    "        calculated = supported_indicators[func](df, int(ind['period']))    \n",
    "\n",
    "    elif func == \"sar\":\n",
    "        calculated = SAR(df, float(ind['acceleration']), float(ind['max_acceleration']))\n",
    "\n",
    "\n",
    "    if 'specifier' in ind:\n",
    "        return calculated.iloc[int(ind['specifier'])]\n",
    "    \n",
    "        # DEPRECATED VERSION BUT WORKS\n",
    "        #return calculated[int(ind['specifier'])]\n",
    "\n",
    "    return calculated"
   ]
  },
  {
   "cell_type": "code",
   "execution_count": 90,
   "metadata": {},
   "outputs": [],
   "source": [
    "def indicator_calculation(df, ind_dict, values = None, debug_mode = False):\n",
    "    if debug_mode:\n",
    "        print(f\"at {ind_dict['ind']} and values are {values}, and it is {ind_dict['operable']}\")\n",
    "\n",
    "    if not ind_dict['operable'] and values is None: #Skips to deepest layer\n",
    "        if debug_mode:\n",
    "            print(f\"Going from {ind_dict['ind']} to {ind_dict['input']}\")\n",
    "        \n",
    "        values = indicator_calculation(df, ind_dict['input'], None, debug_mode)\n",
    "\n",
    "        if debug_mode:\n",
    "            print(f\"\\nback from  {ind_dict['input']}, values are {values}\")\n",
    "            print(ind_dict)\n",
    "\n",
    "    if ind_dict['operable']: #Only triggers at deepest layer\n",
    "        if debug_mode:\n",
    "            print(f\"\\nreached {ind_dict['input']}\")\n",
    "            print(ind_dict)\n",
    "        values = (apply_function(df, ind_dict))\n",
    "        if debug_mode:\n",
    "            print(f\"\\nreached {ind_dict['input']}\")\n",
    "            print(ind_dict)\n",
    "        return values\n",
    "    \n",
    "    if debug_mode:\n",
    "        print(f\"At {ind_dict['ind']} and values are {len(values)}\")\n",
    "    \n",
    "    if values is not None: # FOR ALL OTHER LAYERS\n",
    "        if debug_mode:\n",
    "            print(f\"At {ind_dict['ind']}\")\n",
    "        values = (apply_function(df, ind_dict, values))\n",
    "        return values"
   ]
  },
  {
   "cell_type": "code",
   "execution_count": 91,
   "metadata": {},
   "outputs": [],
   "source": [
    "# Function to take a full expression and evaluate the result (Boolean result)\n",
    "def evaluate_expression(df, exp, debug_mode=False):\n",
    "    exp = simplify_conditions(exp)\n",
    "    lhs = indicator_calculation(df, exp['ind1'])\n",
    "    rhs = indicator_calculation(df, exp['ind2'])\n",
    "\n",
    "    if debug_mode and not exp['breakout_flag']:\n",
    "        print(f\"LHS is {lhs} \\nRHS is {rhs}\")\n",
    "\n",
    "    op = exp['comparison']\n",
    "    if not exp['breakout_flag']:\n",
    "        return bool(ops[op](lhs,rhs))\n",
    "    \n",
    "    # if breakout is there, we need to calculate yesterdays lhs and rhs too\n",
    "    exp['ind1']['specifier'] = str(int(exp['ind1']['specifier'])-1)\n",
    "    exp['ind2']['specifier'] = str(int(exp['ind2']['specifier'])-1)\n",
    "\n",
    "    lhs_yest = indicator_calculation(df, exp['ind1'])\n",
    "    rhs_yest = indicator_calculation(df, exp['ind2'])\n",
    "\n",
    "    if debug_mode:\n",
    "        print(f\"LHS is {lhs} \\nRHS is {rhs} \\nLHS_yest is {lhs_yest} \\nRHS_yest is {rhs_yest}\\nExpression: {lhs}{op}{rhs}\")\n",
    "\n",
    "    return bool(ops[op](lhs,rhs) and ops[inverse_map(op)](lhs_yest,rhs_yest))"
   ]
  },
  {
   "cell_type": "code",
   "execution_count": 92,
   "metadata": {},
   "outputs": [],
   "source": [
    "def validate_referenced_indices(expr, bools):\n",
    "    import re\n",
    "    referenced = set(int(num) for num in re.findall(r'\\b\\d+\\b', expr))\n",
    "    for idx in referenced:\n",
    "        if not 1 <= idx <= len(bools):\n",
    "            raise ValueError(f\"Invalid reference: {idx} is out of range (1 to {len(bools)})\")\n",
    "    return referenced"
   ]
  },
  {
   "cell_type": "code",
   "execution_count": 93,
   "metadata": {},
   "outputs": [
    {
     "name": "stdout",
     "output_type": "stream",
     "text": [
      "LHS is 42.14113800939959 \n",
      "RHS is 0\n"
     ]
    },
    {
     "data": {
      "text/plain": [
       "False"
      ]
     },
     "execution_count": 93,
     "metadata": {},
     "output_type": "execute_result"
    }
   ],
   "source": [
    "#indicator_calculation(aapl,ind_to_dict(\"sma(period=30,input=rsi(period = 30, input = Close))[-1]\"))\n",
    "evaluate_expression(aapl,\"sma(period=30,input=rsi(period = 30, input = Close))[-1]<0\", debug_mode=True)"
   ]
  },
  {
   "cell_type": "code",
   "execution_count": 94,
   "metadata": {},
   "outputs": [],
   "source": [
    "def evaluate_boolean_expression(expr, bools):\n",
    "    # Find all standalone numbers in the expression\n",
    "    referenced = set(int(num) for num in re.findall(r'\\b\\d+\\b', expr))\n",
    "\n",
    "    # Replace each number with a variable like var_1, var_2, etc.\n",
    "    for i in sorted(referenced, reverse=True):  # biggest to smallest to avoid partials\n",
    "        expr = re.sub(rf'\\b{i}\\b', f'var_{i}', expr)\n",
    "\n",
    "    context = {f'var_{i+1}': val for i, val in enumerate(bools)}\n",
    "    \n",
    "    return eval(expr, {}, context)\n"
   ]
  },
  {
   "cell_type": "code",
   "execution_count": 95,
   "metadata": {},
   "outputs": [],
   "source": [
    "def evaluate_expression_list(df, exps, combination = '1'):\n",
    "    \"\"\"\n",
    "    Wrapper on whole backend\n",
    "    \\nAccepts a list of expressions and combination logic, outputs a boolean value\n",
    "    \"\"\"\n",
    "    bools = []\n",
    "    for exp in exps:\n",
    "        bools.append(evaluate_expression(df, exp))\n",
    "\n",
    "    evaluate_boolean_expression(combination,bools)"
   ]
  },
  {
   "cell_type": "code",
   "execution_count": 96,
   "metadata": {},
   "outputs": [
    {
     "name": "stdout",
     "output_type": "stream",
     "text": [
      "Test input is williamsr(period=14, input=Close)[-1] < -80\n",
      "\n"
     ]
    },
    {
     "data": {
      "text/plain": [
       "np.float64(-48.69712585911339)"
      ]
     },
     "execution_count": 96,
     "metadata": {},
     "output_type": "execute_result"
    }
   ],
   "source": [
    "# Test block\n",
    "# LEFT TO TEST: RAISING ERRORS FOR INPUT WITH A FORBIDDEN FUNCTION\n",
    "# LEFT TO TEST: validate_referenced_indices\n",
    "# LEFT TO TEST: Recursive indicator calculation\n",
    "\n",
    "#test = dummy_cond_breakout\n",
    "test = cond_6\n",
    "print(f'Test input is {test}')\n",
    "print()\n",
    "\n",
    "#evaluate_expression(aapl, test, debug_mode=True)\n",
    "#(simplify_conditions(test)['ind1'])\n",
    "#indicator_calculation(aapl,simplify_conditions(test)['ind1'])\n",
    "apply_function(aapl, simplify_conditions(test)['ind1'])\n"
   ]
  },
  {
   "cell_type": "code",
   "execution_count": 98,
   "metadata": {},
   "outputs": [
    {
     "ename": "TypeError",
     "evalue": "BBANDS() takes 4 positional arguments but 5 were given",
     "output_type": "error",
     "traceback": [
      "\u001b[0;31m---------------------------------------------------------------------------\u001b[0m",
      "\u001b[0;31mTypeError\u001b[0m                                 Traceback (most recent call last)",
      "Cell \u001b[0;32mIn[98], line 2\u001b[0m\n\u001b[1;32m      1\u001b[0m \u001b[38;5;66;03m# TEST BBANDS AND MACD INDICATOR CALCULATION\u001b[39;00m\n\u001b[0;32m----> 2\u001b[0m \u001b[43mindicator_calculation\u001b[49m\u001b[43m(\u001b[49m\u001b[43maapl\u001b[49m\u001b[43m,\u001b[49m\u001b[43mind_to_dict\u001b[49m\u001b[43m(\u001b[49m\u001b[38;5;124;43m\"\u001b[39;49m\u001b[38;5;124;43mbbands(period=30,std_dev=3,type=middle,input=sma(period=30))[-1]\u001b[39;49m\u001b[38;5;124;43m\"\u001b[39;49m\u001b[43m)\u001b[49m\u001b[43m)\u001b[49m\n",
      "Cell \u001b[0;32mIn[90], line 31\u001b[0m, in \u001b[0;36mindicator_calculation\u001b[0;34m(df, ind_dict, values, debug_mode)\u001b[0m\n\u001b[1;32m     29\u001b[0m \u001b[38;5;28;01mif\u001b[39;00m debug_mode:\n\u001b[1;32m     30\u001b[0m     \u001b[38;5;28mprint\u001b[39m(\u001b[38;5;124mf\u001b[39m\u001b[38;5;124m\"\u001b[39m\u001b[38;5;124mAt \u001b[39m\u001b[38;5;132;01m{\u001b[39;00mind_dict[\u001b[38;5;124m'\u001b[39m\u001b[38;5;124mind\u001b[39m\u001b[38;5;124m'\u001b[39m]\u001b[38;5;132;01m}\u001b[39;00m\u001b[38;5;124m\"\u001b[39m)\n\u001b[0;32m---> 31\u001b[0m values \u001b[38;5;241m=\u001b[39m (\u001b[43mapply_function\u001b[49m\u001b[43m(\u001b[49m\u001b[43mdf\u001b[49m\u001b[43m,\u001b[49m\u001b[43m \u001b[49m\u001b[43mind_dict\u001b[49m\u001b[43m,\u001b[49m\u001b[43m \u001b[49m\u001b[43mvalues\u001b[49m\u001b[43m)\u001b[49m)\n\u001b[1;32m     32\u001b[0m \u001b[38;5;28;01mreturn\u001b[39;00m values\n",
      "Cell \u001b[0;32mIn[89], line 31\u001b[0m, in \u001b[0;36mapply_function\u001b[0;34m(df, ind, vals, debug_mode)\u001b[0m\n\u001b[1;32m     29\u001b[0m             calculated \u001b[38;5;241m=\u001b[39m MACD(df,\u001b[38;5;28mint\u001b[39m(ind[\u001b[38;5;124m'\u001b[39m\u001b[38;5;124mfast_period\u001b[39m\u001b[38;5;124m'\u001b[39m]),\u001b[38;5;28mint\u001b[39m(ind[\u001b[38;5;124m'\u001b[39m\u001b[38;5;124mslow_period\u001b[39m\u001b[38;5;124m'\u001b[39m]),\u001b[38;5;28mint\u001b[39m(ind[\u001b[38;5;124m'\u001b[39m\u001b[38;5;124msignal_period\u001b[39m\u001b[38;5;124m'\u001b[39m]), ind[\u001b[38;5;124m'\u001b[39m\u001b[38;5;124mtype\u001b[39m\u001b[38;5;124m'\u001b[39m], vals)\n\u001b[1;32m     30\u001b[0m         \u001b[38;5;28;01melse\u001b[39;00m:\n\u001b[0;32m---> 31\u001b[0m             calculated \u001b[38;5;241m=\u001b[39m \u001b[43mBBANDS\u001b[49m\u001b[43m(\u001b[49m\u001b[43mdf\u001b[49m\u001b[43m,\u001b[49m\u001b[38;5;28;43mint\u001b[39;49m\u001b[43m(\u001b[49m\u001b[43mind\u001b[49m\u001b[43m[\u001b[49m\u001b[38;5;124;43m'\u001b[39;49m\u001b[38;5;124;43mperiod\u001b[39;49m\u001b[38;5;124;43m'\u001b[39;49m\u001b[43m]\u001b[49m\u001b[43m)\u001b[49m\u001b[43m,\u001b[49m\u001b[38;5;28;43mfloat\u001b[39;49m\u001b[43m(\u001b[49m\u001b[43mind\u001b[49m\u001b[43m[\u001b[49m\u001b[38;5;124;43m'\u001b[39;49m\u001b[38;5;124;43mstd_dev\u001b[39;49m\u001b[38;5;124;43m'\u001b[39;49m\u001b[43m]\u001b[49m\u001b[43m)\u001b[49m\u001b[43m,\u001b[49m\u001b[43mind\u001b[49m\u001b[43m[\u001b[49m\u001b[38;5;124;43m'\u001b[39;49m\u001b[38;5;124;43mtype\u001b[39;49m\u001b[38;5;124;43m'\u001b[39;49m\u001b[43m]\u001b[49m\u001b[43m,\u001b[49m\u001b[43m \u001b[49m\u001b[43mvals\u001b[49m\u001b[43m)\u001b[49m\n\u001b[1;32m     33\u001b[0m \u001b[38;5;66;03m# CHECK TO SEE IF INPUT UNFRIENDLY RECIEVED INPUT\u001b[39;00m\n\u001b[1;32m     34\u001b[0m \u001b[38;5;28;01melif\u001b[39;00m ind[\u001b[38;5;124m'\u001b[39m\u001b[38;5;124minput\u001b[39m\u001b[38;5;124m'\u001b[39m] \u001b[38;5;129;01mnot\u001b[39;00m \u001b[38;5;129;01min\u001b[39;00m [\u001b[38;5;124m'\u001b[39m\u001b[38;5;124mClose\u001b[39m\u001b[38;5;124m'\u001b[39m, \u001b[38;5;124m'\u001b[39m\u001b[38;5;124mOpen\u001b[39m\u001b[38;5;124m'\u001b[39m, \u001b[38;5;124m'\u001b[39m\u001b[38;5;124mHigh\u001b[39m\u001b[38;5;124m'\u001b[39m, \u001b[38;5;124m'\u001b[39m\u001b[38;5;124mLow\u001b[39m\u001b[38;5;124m'\u001b[39m]:\n",
      "\u001b[0;31mTypeError\u001b[0m: BBANDS() takes 4 positional arguments but 5 were given"
     ]
    }
   ],
   "source": [
    "# TEST BBANDS AND MACD INDICATOR CALCULATION\n",
    "indicator_calculation(aapl,ind_to_dict(\"bbands(period=30,std_dev=3,type=middle,input=sma(period=30))[-1]\"))"
   ]
  },
  {
   "cell_type": "code",
   "execution_count": 99,
   "metadata": {},
   "outputs": [
    {
     "name": "stdout",
     "output_type": "stream",
     "text": [
      "Test input is {'period': '14', 'input': {'period': '14', 'input': 'Close', 'ind': 'hma', 'operable': True}, 'ind': 'rsi', 'operable': False, 'specifier': '-1'}\n",
      "\n",
      "at rsi and values are None, and it is False\n",
      "Going from rsi to {'period': '14', 'input': 'Close', 'ind': 'hma', 'operable': True}\n",
      "at hma and values are None, and it is True\n",
      "\n",
      "reached Close\n",
      "{'period': '14', 'input': 'Close', 'ind': 'hma', 'operable': True}\n",
      "\n",
      "reached Close\n",
      "{'period': '14', 'input': 'Close', 'ind': 'hma', 'operable': True}\n",
      "\n",
      "back from  {'period': '14', 'input': 'Close', 'ind': 'hma', 'operable': True}, values are Date\n",
      "12-04-2024 00:00:00 EDT           NaN\n",
      "15-04-2024 00:00:00 EDT           NaN\n",
      "16-04-2024 00:00:00 EDT           NaN\n",
      "17-04-2024 00:00:00 EDT           NaN\n",
      "18-04-2024 00:00:00 EDT           NaN\n",
      "                              ...    \n",
      "07-04-2025 00:00:00 EDT    200.914230\n",
      "08-04-2025 00:00:00 EDT    188.748881\n",
      "09-04-2025 00:00:00 EDT    182.585754\n",
      "10-04-2025 00:00:00 EDT    179.715817\n",
      "11-04-2025 00:00:00 EDT    180.864952\n",
      "Length: 251, dtype: float64\n",
      "{'period': '14', 'input': {'period': '14', 'input': 'Close', 'ind': 'hma', 'operable': True}, 'ind': 'rsi', 'operable': False, 'specifier': '-1'}\n",
      "At rsi and values are 251\n",
      "At rsi\n"
     ]
    },
    {
     "name": "stderr",
     "output_type": "stream",
     "text": [
      "/var/folders/b7/hmbpghys7mq6k7fycktb9qpw0000gn/T/ipykernel_98026/1396429954.py:5: FutureWarning: Series.__getitem__ treating keys as positions is deprecated. In a future version, integer keys will always be treated as labels (consistent with DataFrame behavior). To access a value by position, use `ser.iloc[pos]`\n",
      "  aapl['rsi_on_hma'][-1]\n"
     ]
    },
    {
     "data": {
      "text/plain": [
       "np.float64(17.769951166761754)"
      ]
     },
     "execution_count": 99,
     "metadata": {},
     "output_type": "execute_result"
    }
   ],
   "source": [
    "# COND 9 EXTENSIVE TEST\n",
    "aapl['hma_14'] = HMA(aapl, 14, 'Close')\n",
    "aapl['rsi_on_hma'] = RSI(aapl, 14, aapl[\"hma_14\"])\n",
    "\n",
    "aapl['rsi_on_hma'][-1]\n",
    "\n",
    "\n",
    "test = cond_9\n",
    "print(f'Test input is {simplify_conditions(test)['ind1']}')\n",
    "print()\n",
    "\n",
    "indicator_calculation(aapl,simplify_conditions(test)['ind1'], debug_mode=True)"
   ]
  },
  {
   "cell_type": "code",
   "execution_count": 25,
   "metadata": {},
   "outputs": [
    {
     "name": "stdout",
     "output_type": "stream",
     "text": [
      "                          Close   kalman_20\n",
      "Date                                       \n",
      "13-06-2025 00:00:00 EDT  196.45  198.610730\n",
      "16-06-2025 00:00:00 EDT  198.42  198.531026\n",
      "17-06-2025 00:00:00 EDT  195.64  197.322893\n",
      "18-06-2025 00:00:00 EDT  196.58  197.012445\n",
      "20-06-2025 00:00:00 EDT  201.00  198.678807\n"
     ]
    },
    {
     "name": "stderr",
     "output_type": "stream",
     "text": [
      "/Users/akeenkarkare/stockalerter/venv/lib/python3.12/site-packages/dateutil/parser/_parser.py:1207: UnknownTimezoneWarning: tzname EDT identified but not understood.  Pass `tzinfos` argument in order to correctly return a timezone-aware datetime.  In a future version, this will raise an exception.\n",
      "  warnings.warn(\"tzname {tzname} identified but not understood.  \"\n",
      "/Users/akeenkarkare/stockalerter/venv/lib/python3.12/site-packages/dateutil/parser/_parser.py:1207: UnknownTimezoneWarning: tzname EST identified but not understood.  Pass `tzinfos` argument in order to correctly return a timezone-aware datetime.  In a future version, this will raise an exception.\n",
      "  warnings.warn(\"tzname {tzname} identified but not understood.  \"\n"
     ]
    },
    {
     "data": {
      "image/png": "[encoded data removed]",
      "text/plain": [
       "<Figure size 1000x400 with 1 Axes>"
      ]
     },
     "metadata": {},
     "output_type": "display_data"
    }
   ],
   "source": [
    "import pandas as pd\n",
    "import matplotlib.pyplot as plt\n",
    "\n",
    "aapl_poly = grab_new_data_polygon(\"AAPL\", \"day\", 30)\n",
    "\n",
    "df = aapl_poly.copy()\n",
    "from indicators_lib import KALMAN\n",
    "df[\"kalman_20\"] = KALMAN(df, period=30, input=\"Close\")\n",
    "\n",
    "print(df[[\"Close\", \"kalman_20\"]].tail(5))\n",
    "\n",
    "plt.figure(figsize=(10,4))\n",
    "plt.plot(df.index, df[\"Close\"],    label=\"Close\")\n",
    "plt.plot(df.index, df[\"kalman_20\"], label=\"Kalman(20)\")\n",
    "plt.legend()\n",
    "plt.show()\n"
   ]
  },
  {
   "cell_type": "code",
   "execution_count": null,
   "metadata": {},
   "outputs": [
    {
     "ename": "KeyError",
     "evalue": "'2025-06-06'",
     "output_type": "error",
     "traceback": [
      "\u001b[0;31m---------------------------------------------------------------------------\u001b[0m",
      "\u001b[0;31mKeyError\u001b[0m                                  Traceback (most recent call last)",
      "File \u001b[0;32m~/stockalerter/venv/lib/python3.12/site-packages/pandas/core/indexes/base.py:3805\u001b[0m, in \u001b[0;36mIndex.get_loc\u001b[0;34m(self, key)\u001b[0m\n\u001b[1;32m   3804\u001b[0m \u001b[38;5;28;01mtry\u001b[39;00m:\n\u001b[0;32m-> 3805\u001b[0m     \u001b[38;5;28;01mreturn\u001b[39;00m \u001b[38;5;28;43mself\u001b[39;49m\u001b[38;5;241;43m.\u001b[39;49m\u001b[43m_engine\u001b[49m\u001b[38;5;241;43m.\u001b[39;49m\u001b[43mget_loc\u001b[49m\u001b[43m(\u001b[49m\u001b[43mcasted_key\u001b[49m\u001b[43m)\u001b[49m\n\u001b[1;32m   3806\u001b[0m \u001b[38;5;28;01mexcept\u001b[39;00m \u001b[38;5;167;01mKeyError\u001b[39;00m \u001b[38;5;28;01mas\u001b[39;00m err:\n",
      "File \u001b[0;32mindex.pyx:167\u001b[0m, in \u001b[0;36mpandas._libs.index.IndexEngine.get_loc\u001b[0;34m()\u001b[0m\n",
      "File \u001b[0;32mindex.pyx:196\u001b[0m, in \u001b[0;36mpandas._libs.index.IndexEngine.get_loc\u001b[0;34m()\u001b[0m\n",
      "File \u001b[0;32mpandas/_libs/hashtable_class_helper.pxi:7081\u001b[0m, in \u001b[0;36mpandas._libs.hashtable.PyObjectHashTable.get_item\u001b[0;34m()\u001b[0m\n",
      "File \u001b[0;32mpandas/_libs/hashtable_class_helper.pxi:7089\u001b[0m, in \u001b[0;36mpandas._libs.hashtable.PyObjectHashTable.get_item\u001b[0;34m()\u001b[0m\n",
      "\u001b[0;31mKeyError\u001b[0m: '2025-06-06'",
      "\nThe above exception was the direct cause of the following exception:\n",
      "\u001b[0;31mKeyError\u001b[0m                                  Traceback (most recent call last)",
      "Cell \u001b[0;32mIn[7], line 19\u001b[0m\n\u001b[1;32m     17\u001b[0m df[\u001b[38;5;124m\"\u001b[39m\u001b[38;5;124mst_trans\u001b[39m\u001b[38;5;124m\"\u001b[39m]  \u001b[38;5;241m=\u001b[39m SUPER_TREND_COLOUR_TRANSITIONS(df, atr_period\u001b[38;5;241m=\u001b[39m\u001b[38;5;241m10\u001b[39m, multiplier\u001b[38;5;241m=\u001b[39m\u001b[38;5;241m3\u001b[39m)\n\u001b[1;32m     18\u001b[0m df[\u001b[38;5;124m\"\u001b[39m\u001b[38;5;124mkalman_py\u001b[39m\u001b[38;5;124m\"\u001b[39m] \u001b[38;5;241m=\u001b[39m KALMAN(df, period\u001b[38;5;241m=\u001b[39m\u001b[38;5;241m20\u001b[39m, \u001b[38;5;28minput\u001b[39m\u001b[38;5;241m=\u001b[39m\u001b[38;5;124m\"\u001b[39m\u001b[38;5;124mClose\u001b[39m\u001b[38;5;124m\"\u001b[39m)\n\u001b[0;32m---> 19\u001b[0m \u001b[38;5;28mprint\u001b[39m(\u001b[43mdf\u001b[49m\u001b[43m[\u001b[49m\u001b[43m[\u001b[49m\u001b[38;5;124;43m\"\u001b[39;49m\u001b[38;5;124;43mkalman_py\u001b[39;49m\u001b[38;5;124;43m\"\u001b[39;49m\u001b[43m,\u001b[49m\u001b[38;5;124;43m\"\u001b[39;49m\u001b[38;5;124;43mkal_col\u001b[39;49m\u001b[38;5;124;43m\"\u001b[39;49m\u001b[43m,\u001b[49m\u001b[38;5;124;43m\"\u001b[39;49m\u001b[38;5;124;43mkal_trans\u001b[39;49m\u001b[38;5;124;43m\"\u001b[39;49m\u001b[43m]\u001b[49m\u001b[43m]\u001b[49m\u001b[38;5;241;43m.\u001b[39;49m\u001b[43mloc\u001b[49m\u001b[43m[\u001b[49m\u001b[38;5;124;43m\"\u001b[39;49m\u001b[38;5;124;43m2025-06-06\u001b[39;49m\u001b[38;5;124;43m\"\u001b[39;49m\u001b[43m:\u001b[49m\u001b[38;5;124;43m\"\u001b[39;49m\u001b[38;5;124;43m2025-06-20\u001b[39;49m\u001b[38;5;124;43m\"\u001b[39;49m\u001b[43m]\u001b[49m)\n\u001b[1;32m     22\u001b[0m \u001b[38;5;66;03m# 4) Inspect samples\u001b[39;00m\n\u001b[1;32m     23\u001b[0m \u001b[38;5;28mprint\u001b[39m(\u001b[38;5;124m\"\u001b[39m\u001b[38;5;130;01m\\n\u001b[39;00m\u001b[38;5;124m=== Kalman colours & transitions (last 10) ===\u001b[39m\u001b[38;5;124m\"\u001b[39m)\n",
      "File \u001b[0;32m~/stockalerter/venv/lib/python3.12/site-packages/pandas/core/indexing.py:1191\u001b[0m, in \u001b[0;36m_LocationIndexer.__getitem__\u001b[0;34m(self, key)\u001b[0m\n\u001b[1;32m   1189\u001b[0m maybe_callable \u001b[38;5;241m=\u001b[39m com\u001b[38;5;241m.\u001b[39mapply_if_callable(key, \u001b[38;5;28mself\u001b[39m\u001b[38;5;241m.\u001b[39mobj)\n\u001b[1;32m   1190\u001b[0m maybe_callable \u001b[38;5;241m=\u001b[39m \u001b[38;5;28mself\u001b[39m\u001b[38;5;241m.\u001b[39m_check_deprecated_callable_usage(key, maybe_callable)\n\u001b[0;32m-> 1191\u001b[0m \u001b[38;5;28;01mreturn\u001b[39;00m \u001b[38;5;28;43mself\u001b[39;49m\u001b[38;5;241;43m.\u001b[39;49m\u001b[43m_getitem_axis\u001b[49m\u001b[43m(\u001b[49m\u001b[43mmaybe_callable\u001b[49m\u001b[43m,\u001b[49m\u001b[43m \u001b[49m\u001b[43maxis\u001b[49m\u001b[38;5;241;43m=\u001b[39;49m\u001b[43maxis\u001b[49m\u001b[43m)\u001b[49m\n",
      "File \u001b[0;32m~/stockalerter/venv/lib/python3.12/site-packages/pandas/core/indexing.py:1411\u001b[0m, in \u001b[0;36m_LocIndexer._getitem_axis\u001b[0;34m(self, key, axis)\u001b[0m\n\u001b[1;32m   1409\u001b[0m \u001b[38;5;28;01mif\u001b[39;00m \u001b[38;5;28misinstance\u001b[39m(key, \u001b[38;5;28mslice\u001b[39m):\n\u001b[1;32m   1410\u001b[0m     \u001b[38;5;28mself\u001b[39m\u001b[38;5;241m.\u001b[39m_validate_key(key, axis)\n\u001b[0;32m-> 1411\u001b[0m     \u001b[38;5;28;01mreturn\u001b[39;00m \u001b[38;5;28;43mself\u001b[39;49m\u001b[38;5;241;43m.\u001b[39;49m\u001b[43m_get_slice_axis\u001b[49m\u001b[43m(\u001b[49m\u001b[43mkey\u001b[49m\u001b[43m,\u001b[49m\u001b[43m \u001b[49m\u001b[43maxis\u001b[49m\u001b[38;5;241;43m=\u001b[39;49m\u001b[43maxis\u001b[49m\u001b[43m)\u001b[49m\n\u001b[1;32m   1412\u001b[0m \u001b[38;5;28;01melif\u001b[39;00m com\u001b[38;5;241m.\u001b[39mis_bool_indexer(key):\n\u001b[1;32m   1413\u001b[0m     \u001b[38;5;28;01mreturn\u001b[39;00m \u001b[38;5;28mself\u001b[39m\u001b[38;5;241m.\u001b[39m_getbool_axis(key, axis\u001b[38;5;241m=\u001b[39maxis)\n",
      "File \u001b[0;32m~/stockalerter/venv/lib/python3.12/site-packages/pandas/core/indexing.py:1443\u001b[0m, in \u001b[0;36m_LocIndexer._get_slice_axis\u001b[0;34m(self, slice_obj, axis)\u001b[0m\n\u001b[1;32m   1440\u001b[0m     \u001b[38;5;28;01mreturn\u001b[39;00m obj\u001b[38;5;241m.\u001b[39mcopy(deep\u001b[38;5;241m=\u001b[39m\u001b[38;5;28;01mFalse\u001b[39;00m)\n\u001b[1;32m   1442\u001b[0m labels \u001b[38;5;241m=\u001b[39m obj\u001b[38;5;241m.\u001b[39m_get_axis(axis)\n\u001b[0;32m-> 1443\u001b[0m indexer \u001b[38;5;241m=\u001b[39m \u001b[43mlabels\u001b[49m\u001b[38;5;241;43m.\u001b[39;49m\u001b[43mslice_indexer\u001b[49m\u001b[43m(\u001b[49m\u001b[43mslice_obj\u001b[49m\u001b[38;5;241;43m.\u001b[39;49m\u001b[43mstart\u001b[49m\u001b[43m,\u001b[49m\u001b[43m \u001b[49m\u001b[43mslice_obj\u001b[49m\u001b[38;5;241;43m.\u001b[39;49m\u001b[43mstop\u001b[49m\u001b[43m,\u001b[49m\u001b[43m \u001b[49m\u001b[43mslice_obj\u001b[49m\u001b[38;5;241;43m.\u001b[39;49m\u001b[43mstep\u001b[49m\u001b[43m)\u001b[49m\n\u001b[1;32m   1445\u001b[0m \u001b[38;5;28;01mif\u001b[39;00m \u001b[38;5;28misinstance\u001b[39m(indexer, \u001b[38;5;28mslice\u001b[39m):\n\u001b[1;32m   1446\u001b[0m     \u001b[38;5;28;01mreturn\u001b[39;00m \u001b[38;5;28mself\u001b[39m\u001b[38;5;241m.\u001b[39mobj\u001b[38;5;241m.\u001b[39m_slice(indexer, axis\u001b[38;5;241m=\u001b[39maxis)\n",
      "File \u001b[0;32m~/stockalerter/venv/lib/python3.12/site-packages/pandas/core/indexes/base.py:6662\u001b[0m, in \u001b[0;36mIndex.slice_indexer\u001b[0;34m(self, start, end, step)\u001b[0m\n\u001b[1;32m   6618\u001b[0m \u001b[38;5;28;01mdef\u001b[39;00m\u001b[38;5;250m \u001b[39m\u001b[38;5;21mslice_indexer\u001b[39m(\n\u001b[1;32m   6619\u001b[0m     \u001b[38;5;28mself\u001b[39m,\n\u001b[1;32m   6620\u001b[0m     start: Hashable \u001b[38;5;241m|\u001b[39m \u001b[38;5;28;01mNone\u001b[39;00m \u001b[38;5;241m=\u001b[39m \u001b[38;5;28;01mNone\u001b[39;00m,\n\u001b[1;32m   6621\u001b[0m     end: Hashable \u001b[38;5;241m|\u001b[39m \u001b[38;5;28;01mNone\u001b[39;00m \u001b[38;5;241m=\u001b[39m \u001b[38;5;28;01mNone\u001b[39;00m,\n\u001b[1;32m   6622\u001b[0m     step: \u001b[38;5;28mint\u001b[39m \u001b[38;5;241m|\u001b[39m \u001b[38;5;28;01mNone\u001b[39;00m \u001b[38;5;241m=\u001b[39m \u001b[38;5;28;01mNone\u001b[39;00m,\n\u001b[1;32m   6623\u001b[0m ) \u001b[38;5;241m-\u001b[39m\u001b[38;5;241m>\u001b[39m \u001b[38;5;28mslice\u001b[39m:\n\u001b[1;32m   6624\u001b[0m \u001b[38;5;250m    \u001b[39m\u001b[38;5;124;03m\"\"\"\u001b[39;00m\n\u001b[1;32m   6625\u001b[0m \u001b[38;5;124;03m    Compute the slice indexer for input labels and step.\u001b[39;00m\n\u001b[1;32m   6626\u001b[0m \n\u001b[0;32m   (...)\u001b[0m\n\u001b[1;32m   6660\u001b[0m \u001b[38;5;124;03m    slice(1, 3, None)\u001b[39;00m\n\u001b[1;32m   6661\u001b[0m \u001b[38;5;124;03m    \"\"\"\u001b[39;00m\n\u001b[0;32m-> 6662\u001b[0m     start_slice, end_slice \u001b[38;5;241m=\u001b[39m \u001b[38;5;28;43mself\u001b[39;49m\u001b[38;5;241;43m.\u001b[39;49m\u001b[43mslice_locs\u001b[49m\u001b[43m(\u001b[49m\u001b[43mstart\u001b[49m\u001b[43m,\u001b[49m\u001b[43m \u001b[49m\u001b[43mend\u001b[49m\u001b[43m,\u001b[49m\u001b[43m \u001b[49m\u001b[43mstep\u001b[49m\u001b[38;5;241;43m=\u001b[39;49m\u001b[43mstep\u001b[49m\u001b[43m)\u001b[49m\n\u001b[1;32m   6664\u001b[0m     \u001b[38;5;66;03m# return a slice\u001b[39;00m\n\u001b[1;32m   6665\u001b[0m     \u001b[38;5;28;01mif\u001b[39;00m \u001b[38;5;129;01mnot\u001b[39;00m is_scalar(start_slice):\n",
      "File \u001b[0;32m~/stockalerter/venv/lib/python3.12/site-packages/pandas/core/indexes/base.py:6879\u001b[0m, in \u001b[0;36mIndex.slice_locs\u001b[0;34m(self, start, end, step)\u001b[0m\n\u001b[1;32m   6877\u001b[0m start_slice \u001b[38;5;241m=\u001b[39m \u001b[38;5;28;01mNone\u001b[39;00m\n\u001b[1;32m   6878\u001b[0m \u001b[38;5;28;01mif\u001b[39;00m start \u001b[38;5;129;01mis\u001b[39;00m \u001b[38;5;129;01mnot\u001b[39;00m \u001b[38;5;28;01mNone\u001b[39;00m:\n\u001b[0;32m-> 6879\u001b[0m     start_slice \u001b[38;5;241m=\u001b[39m \u001b[38;5;28;43mself\u001b[39;49m\u001b[38;5;241;43m.\u001b[39;49m\u001b[43mget_slice_bound\u001b[49m\u001b[43m(\u001b[49m\u001b[43mstart\u001b[49m\u001b[43m,\u001b[49m\u001b[43m \u001b[49m\u001b[38;5;124;43m\"\u001b[39;49m\u001b[38;5;124;43mleft\u001b[39;49m\u001b[38;5;124;43m\"\u001b[39;49m\u001b[43m)\u001b[49m\n\u001b[1;32m   6880\u001b[0m \u001b[38;5;28;01mif\u001b[39;00m start_slice \u001b[38;5;129;01mis\u001b[39;00m \u001b[38;5;28;01mNone\u001b[39;00m:\n\u001b[1;32m   6881\u001b[0m     start_slice \u001b[38;5;241m=\u001b[39m \u001b[38;5;241m0\u001b[39m\n",
      "File \u001b[0;32m~/stockalerter/venv/lib/python3.12/site-packages/pandas/core/indexes/base.py:6804\u001b[0m, in \u001b[0;36mIndex.get_slice_bound\u001b[0;34m(self, label, side)\u001b[0m\n\u001b[1;32m   6801\u001b[0m         \u001b[38;5;28;01mreturn\u001b[39;00m \u001b[38;5;28mself\u001b[39m\u001b[38;5;241m.\u001b[39m_searchsorted_monotonic(label, side)\n\u001b[1;32m   6802\u001b[0m     \u001b[38;5;28;01mexcept\u001b[39;00m \u001b[38;5;167;01mValueError\u001b[39;00m:\n\u001b[1;32m   6803\u001b[0m         \u001b[38;5;66;03m# raise the original KeyError\u001b[39;00m\n\u001b[0;32m-> 6804\u001b[0m         \u001b[38;5;28;01mraise\u001b[39;00m err\n\u001b[1;32m   6806\u001b[0m \u001b[38;5;28;01mif\u001b[39;00m \u001b[38;5;28misinstance\u001b[39m(slc, np\u001b[38;5;241m.\u001b[39mndarray):\n\u001b[1;32m   6807\u001b[0m     \u001b[38;5;66;03m# get_loc may return a boolean array, which\u001b[39;00m\n\u001b[1;32m   6808\u001b[0m     \u001b[38;5;66;03m# is OK as long as they are representable by a slice.\u001b[39;00m\n\u001b[1;32m   6809\u001b[0m     \u001b[38;5;28;01massert\u001b[39;00m is_bool_dtype(slc\u001b[38;5;241m.\u001b[39mdtype)\n",
      "File \u001b[0;32m~/stockalerter/venv/lib/python3.12/site-packages/pandas/core/indexes/base.py:6798\u001b[0m, in \u001b[0;36mIndex.get_slice_bound\u001b[0;34m(self, label, side)\u001b[0m\n\u001b[1;32m   6796\u001b[0m \u001b[38;5;66;03m# we need to look up the label\u001b[39;00m\n\u001b[1;32m   6797\u001b[0m \u001b[38;5;28;01mtry\u001b[39;00m:\n\u001b[0;32m-> 6798\u001b[0m     slc \u001b[38;5;241m=\u001b[39m \u001b[38;5;28;43mself\u001b[39;49m\u001b[38;5;241;43m.\u001b[39;49m\u001b[43mget_loc\u001b[49m\u001b[43m(\u001b[49m\u001b[43mlabel\u001b[49m\u001b[43m)\u001b[49m\n\u001b[1;32m   6799\u001b[0m \u001b[38;5;28;01mexcept\u001b[39;00m \u001b[38;5;167;01mKeyError\u001b[39;00m \u001b[38;5;28;01mas\u001b[39;00m err:\n\u001b[1;32m   6800\u001b[0m     \u001b[38;5;28;01mtry\u001b[39;00m:\n",
      "File \u001b[0;32m~/stockalerter/venv/lib/python3.12/site-packages/pandas/core/indexes/base.py:3812\u001b[0m, in \u001b[0;36mIndex.get_loc\u001b[0;34m(self, key)\u001b[0m\n\u001b[1;32m   3807\u001b[0m     \u001b[38;5;28;01mif\u001b[39;00m \u001b[38;5;28misinstance\u001b[39m(casted_key, \u001b[38;5;28mslice\u001b[39m) \u001b[38;5;129;01mor\u001b[39;00m (\n\u001b[1;32m   3808\u001b[0m         \u001b[38;5;28misinstance\u001b[39m(casted_key, abc\u001b[38;5;241m.\u001b[39mIterable)\n\u001b[1;32m   3809\u001b[0m         \u001b[38;5;129;01mand\u001b[39;00m \u001b[38;5;28many\u001b[39m(\u001b[38;5;28misinstance\u001b[39m(x, \u001b[38;5;28mslice\u001b[39m) \u001b[38;5;28;01mfor\u001b[39;00m x \u001b[38;5;129;01min\u001b[39;00m casted_key)\n\u001b[1;32m   3810\u001b[0m     ):\n\u001b[1;32m   3811\u001b[0m         \u001b[38;5;28;01mraise\u001b[39;00m InvalidIndexError(key)\n\u001b[0;32m-> 3812\u001b[0m     \u001b[38;5;28;01mraise\u001b[39;00m \u001b[38;5;167;01mKeyError\u001b[39;00m(key) \u001b[38;5;28;01mfrom\u001b[39;00m\u001b[38;5;250m \u001b[39m\u001b[38;5;21;01merr\u001b[39;00m\n\u001b[1;32m   3813\u001b[0m \u001b[38;5;28;01mexcept\u001b[39;00m \u001b[38;5;167;01mTypeError\u001b[39;00m:\n\u001b[1;32m   3814\u001b[0m     \u001b[38;5;66;03m# If we have a listlike key, _check_indexing_error will raise\u001b[39;00m\n\u001b[1;32m   3815\u001b[0m     \u001b[38;5;66;03m#  InvalidIndexError. Otherwise we fall through and re-raise\u001b[39;00m\n\u001b[1;32m   3816\u001b[0m     \u001b[38;5;66;03m#  the TypeError.\u001b[39;00m\n\u001b[1;32m   3817\u001b[0m     \u001b[38;5;28mself\u001b[39m\u001b[38;5;241m.\u001b[39m_check_indexing_error(key)\n",
      "\u001b[0;31mKeyError\u001b[0m: '2025-06-06'"
     ]
    }
   ],
   "source": [
    "import pandas as pd\n",
    "import matplotlib.pyplot as plt\n",
    "\n",
    "# Pick one:\n",
    "df = grab_new_data_polygon(\"AAPL\", \"day\", 60)\n",
    "# df = grab_new_data_yfinance(\"AAPL\", \"day\", 60)\n",
    "\n",
    "# 2) Import your indicators\n",
    "from indicators_lib import *\n",
    "\n",
    "# 3) Compute each series\n",
    "df[\"kal_col\"]   = KALMAN_COLOURS(df, period=20, input=\"Close\")\n",
    "df[\"kal_trans\"] = KALMAN_COLOUR_TRANSITIONS(df, period=20, input=\"Close\")\n",
    "\n",
    "df[\"st_trend\"]  = SUPER_TREND(df, atr_period=10, multiplier=3)\n",
    "df[\"st_col\"]    = SUPER_TREND_COLOURS(df, atr_period=10, multiplier=3)\n",
    "df[\"st_trans\"]  = SUPER_TREND_COLOUR_TRANSITIONS(df, atr_period=10, multiplier=3)\n",
    "\n",
    "\n",
    "# 4) Inspect samples\n",
    "print(\"\\n=== Kalman colours & transitions (last 10) ===\")\n",
    "print(df[[\"Close\",\"kal_col\",\"kal_trans\"]].tail(10))\n",
    "\n",
    "print(\"\\n=== Supertrend (+1/–1), colours & transitions (last 10) ===\")\n",
    "print(df[[\"Close\",\"st_trend\",\"st_col\",\"st_trans\"]].tail(10))\n",
    "\n",
    "# 5) Quick visual check\n",
    "fig, ax = plt.subplots(2,1, figsize=(10,6), sharex=True)\n",
    "\n",
    "ax[0].plot(df.index, df[\"Close\"],   label=\"Close\")\n",
    "ax[0].scatter(df.index, df[\"Close\"],\n",
    "              c=df[\"kal_col\"].map({\"green\":\"g\",\"red\":\"r\"}),\n",
    "              s=8, label=\"Kalman colour\")\n",
    "ax[0].set_title(\"Close with Kalman colour\")\n",
    "\n",
    "ax[1].plot(df.index, df[\"st_trend\"], label=\"Supertrend\")\n",
    "ax[1].scatter(df.index, df[\"st_trend\"],\n",
    "              c=df[\"st_col\"].map({\"green\":\"g\",\"red\":\"r\"}),\n",
    "              s=8, label=\"ST colour\")\n",
    "ax[1].set_title(\"Supertrend trend & colour\")\n",
    "\n",
    "for a in ax:\n",
    "    a.legend()\n",
    "plt.tight_layout()\n",
    "plt.show()\n"
   ]
  }
 ],
 "metadata": {
  "kernelspec": {
   "display_name": "venv",
   "language": "python",
   "name": "python3"
  },
  "language_info": {
   "codemirror_mode": {
    "name": "ipython",
    "version": 3
   },
   "file_extension": ".py",
   "mimetype": "text/x-python",
   "name": "python",
   "nbconvert_exporter": "python",
   "pygments_lexer": "ipython3",
   "version": "3.12.7"
  }
 },
 "nbformat": 4,
 "nbformat_minor": 2
}

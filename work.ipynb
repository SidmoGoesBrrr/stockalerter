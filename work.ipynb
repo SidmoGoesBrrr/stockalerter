{
 "cells": [
  {
   "cell_type": "code",
   "execution_count": 7,
   "metadata": {},
   "outputs": [],
   "source": [
    "from polygon import RESTClient\n",
    "from typing import cast\n",
    "from urllib3 import HTTPResponse\n",
    "import json\n",
    "import pandas as pd\n",
    "import datetime\n",
    "import pytz\n",
    "import talib\n",
    "\n",
    "API_KEY = \"I0D0ldkssJgACZm3fcs9DlZAX5osmgZp\"\n",
    "\n",
    "from utils import grab_new_data_polygon\n",
    "from indicators_lib import *\n",
    "from preprocess import parse_condition\n",
    "from indicators import extract_indicators"
   ]
  },
  {
   "cell_type": "code",
   "execution_count": 18,
   "metadata": {},
   "outputs": [],
   "source": [
    "dummy_cond = \"rsi(period=14)[-1]>sma(period=50)[-1]\""
   ]
  },
  {
   "cell_type": "code",
   "execution_count": null,
   "metadata": {},
   "outputs": [
    {
     "data": {
      "text/plain": [
       "[[['rsi', 'period=14', '[-1]'], '>', ['sma', 'period=50', '[-1]']]]"
      ]
     },
     "execution_count": 22,
     "metadata": {},
     "output_type": "execute_result"
    }
   ],
   "source": [
    "(parse_condition(dummy_cond)[0])"
   ]
  },
  {
   "cell_type": "code",
   "execution_count": 19,
   "metadata": {},
   "outputs": [
    {
     "data": {
      "text/plain": [
       "{('rsi', 'period=14'), ('sma', 'period=50')}"
      ]
     },
     "execution_count": 19,
     "metadata": {},
     "output_type": "execute_result"
    }
   ],
   "source": [
    "extract_indicators(parse_condition(dummy_cond)[0])"
   ]
  },
  {
   "cell_type": "code",
   "execution_count": null,
   "metadata": {},
   "outputs": [],
   "source": []
  }
 ],
 "metadata": {
  "kernelspec": {
   "display_name": "venv",
   "language": "python",
   "name": "python3"
  },
  "language_info": {
   "codemirror_mode": {
    "name": "ipython",
    "version": 3
   },
   "file_extension": ".py",
   "mimetype": "text/x-python",
   "name": "python",
   "nbconvert_exporter": "python",
   "pygments_lexer": "ipython3",
   "version": "3.12.7"
  }
 },
 "nbformat": 4,
 "nbformat_minor": 2
}

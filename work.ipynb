{
 "cells": [
  {
   "cell_type": "code",
   "execution_count": 1,
   "metadata": {},
   "outputs": [],
   "source": [
    "from polygon import RESTClient\n",
    "from typing import cast\n",
    "from urllib3 import HTTPResponse\n",
    "import json\n",
    "import pandas as pd\n",
    "import datetime\n",
    "import pytz\n",
    "\n",
    "API_KEY = \"I0D0ldkssJgACZm3fcs9DlZAX5osmgZp\""
   ]
  },
  {
   "cell_type": "code",
   "execution_count": 2,
   "metadata": {},
   "outputs": [],
   "source": [
    "client = RESTClient(api_key=API_KEY)"
   ]
  },
  {
   "cell_type": "code",
   "execution_count": 3,
   "metadata": {},
   "outputs": [],
   "source": [
    "today = datetime.datetime.today().strftime('%Y-%m-%d')\n",
    "last_year = (datetime.datetime.now() - datetime.timedelta(days=365)).strftime('%Y-%m-%d')"
   ]
  },
  {
   "cell_type": "code",
   "execution_count": 4,
   "metadata": {},
   "outputs": [],
   "source": [
    "utc = pytz.utc\n",
    "est = pytz.timezone(\"US/Eastern\")\n",
    "\n",
    "ticker = \"AAPL\"\n",
    "aggs = []\n",
    "\n",
    "for a in client.list_aggs(ticker=ticker, multiplier=1, timespan=\"day\", from_=last_year, to=today, limit=50000):\n",
    "    aggs.append(a)\n"
   ]
  },
  {
   "cell_type": "code",
   "execution_count": 5,
   "metadata": {},
   "outputs": [],
   "source": [
    "df = pd.DataFrame(aggs)\n",
    "df[\"timestamp\"] = pd.to_datetime(df[\"timestamp\"], unit=\"ms\", utc=True)  # Convert to UTC first\n",
    "df[\"timestamp\"] = df[\"timestamp\"].dt.tz_convert(est)  # Convert to EST"
   ]
  },
  {
   "cell_type": "code",
   "execution_count": 10,
   "metadata": {},
   "outputs": [],
   "source": [
    "aggs = cast(\n",
    "    HTTPResponse,\n",
    "    client.get_aggs(ticker=ticker, multiplier=1, timespan=\"day\", from_=last_year, to=today, limit=50000,raw=True),\n",
    ")"
   ]
  },
  {
   "cell_type": "code",
   "execution_count": 15,
   "metadata": {},
   "outputs": [],
   "source": [
    "data_str = aggs.data.decode(\"utf-8\")\n",
    "data = json.loads(data_str)\n",
    "df = pd.DataFrame(data[\"results\"])"
   ]
  },
  {
   "cell_type": "code",
   "execution_count": 18,
   "metadata": {},
   "outputs": [],
   "source": [
    "data_str = aggs.data.decode(\"utf-8\")\n",
    "data = json.loads(data_str)\n",
    "df = pd.DataFrame(data[\"results\"])\n",
    "\n",
    "df.sort_values(by=\"t\", ascending=False, inplace=True)\n",
    "df[\"Date\"] = pd.to_datetime(df[\"t\"], unit=\"ms\", utc=True).dt.tz_convert(\"America/New_York\")\n",
    "\n",
    "# Format to display date in NYC timezone\n",
    "df[\"Date\"] = df[\"Date\"].dt.strftime(\"%d-%m-%Y %H:%M:%S %Z\")\n",
    "\n",
    "# Sort values by Date in descending order\n",
    "#df.sort_values(by=\"Date\", ascending=False, inplace=True)\n",
    "\n",
    "# Rename columns\n",
    "df.rename(columns={\n",
    "    \"o\": \"Open\",\n",
    "    \"c\": \"Close\",\n",
    "    \"h\": \"High\",\n",
    "    \"l\": \"Low\",\n",
    "    \"v\": \"Volume\",\n",
    "    \"vw\": \"VWAP\",\n",
    "    \"n\": \"Trades\"\n",
    "}, inplace=True)\n",
    "\n",
    "# Drop original timestamp column\n",
    "df.drop(columns=[\"t\"], inplace=True)"
   ]
  },
  {
   "cell_type": "code",
   "execution_count": 20,
   "metadata": {},
   "outputs": [],
   "source": [
    "df.set_index(\"Date\", inplace=True)"
   ]
  },
  {
   "cell_type": "code",
   "execution_count": null,
   "metadata": {},
   "outputs": [],
   "source": []
  }
 ],
 "metadata": {
  "kernelspec": {
   "display_name": "Python 3",
   "language": "python",
   "name": "python3"
  },
  "language_info": {
   "codemirror_mode": {
    "name": "ipython",
    "version": 3
   },
   "file_extension": ".py",
   "mimetype": "text/x-python",
   "name": "python",
   "nbconvert_exporter": "python",
   "pygments_lexer": "ipython3",
   "version": "3.10.15"
  }
 },
 "nbformat": 4,
 "nbformat_minor": 2
}
